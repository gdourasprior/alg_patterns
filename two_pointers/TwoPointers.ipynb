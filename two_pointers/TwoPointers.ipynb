{
 "cells": [
  {
   "cell_type": "markdown",
   "id": "3df51a72-bbec-48ed-b3e5-2479ac73bc5e",
   "metadata": {},
   "source": [
    "### Two Pointers"
   ]
  },
  {
   "cell_type": "raw",
   "id": "9290b666-f715-4338-8c01-4d7995a7ea8c",
   "metadata": {},
   "source": [
    "Pattern desc."
   ]
  },
  {
   "cell_type": "markdown",
   "id": "356f01c9-051b-4214-b29a-0b1045b9286b",
   "metadata": {},
   "source": [
    "### Psuedo Code:"
   ]
  },
  {
   "cell_type": "markdown",
   "id": "7716cde8-bfa3-406a-8176-5c5d4aaf0722",
   "metadata": {},
   "source": [
    "Commonly used during the interview process, these problems require using two (or more) 'pointers' to solve a problem involving an iterable data structure. The 'Two Pointer' style question can cover a broad variety of differing problems. What is common among them is the need to track multiple different entries within the data structure, usually iterating each pointer in search of a solution.\n",
    "\n",
    "Usually, the data structure in question is some form of array ('list' in Python)."
   ]
  },
  {
   "cell_type": "markdown",
   "id": "8dcb4eb0-224a-403b-9f0e-43473431a911",
   "metadata": {},
   "source": [
    "### My Code:"
   ]
  },
  {
   "cell_type": "code",
   "execution_count": 1,
   "id": "250b14fe-447a-4f2a-8668-3c5a48878e9a",
   "metadata": {},
   "outputs": [],
   "source": [
    "def example(param: int = 0) -> str:\n",
    "    \"\"\"An Example function.\n",
    "\n",
    "    :param param: An int, it does nothing!\n",
    "    :return: Returns the String \"Hello World!\"\n",
    "    \"\"\"\n",
    "    \n",
    "    return \"Hello World!\""
   ]
  },
  {
   "cell_type": "markdown",
   "id": "4a833389-10be-445f-a294-48b88aeb4318",
   "metadata": {},
   "source": [
    "#### Testing:"
   ]
  },
  {
   "cell_type": "code",
   "execution_count": 2,
   "id": "7a62363a-3933-471b-97c2-770ebcabc3aa",
   "metadata": {},
   "outputs": [
    {
     "name": "stdout",
     "output_type": "stream",
     "text": [
      "Hello World!\n"
     ]
    }
   ],
   "source": [
    "params = [\n",
    "    1\n",
    "]\n",
    "for i in range(len(params)):\n",
    "    print(example(params[i]))"
   ]
  },
  {
   "cell_type": "markdown",
   "id": "52c5c4f2-6ecb-40eb-badd-2af9f5071a86",
   "metadata": {},
   "source": [
    "#### Notes:"
   ]
  },
  {
   "cell_type": "markdown",
   "id": "9d5b8b27-d9a2-4413-9c0f-61a32bf0d87a",
   "metadata": {},
   "source": [
    "- Example\n",
    "- Example Two"
   ]
  },
  {
   "cell_type": "markdown",
   "id": "5e9b32d0-4873-4f8a-a503-5a95aecad3cc",
   "metadata": {},
   "source": [
    "### Helpful Resources:"
   ]
  },
  {
   "cell_type": "markdown",
   "id": "d2035565-e17d-42b1-bb43-68674223cf11",
   "metadata": {},
   "source": [
    "- [This GeeksForGeeks article](https://www.geeksforgeeks.org/two-pointers-technique/)\n",
    "- [This AlgoMonster article](https://algo.monster/problems/two_pointers_intro)\n",
    "- [This Algodaily article](https://algodaily.com/lessons/using-the-two-pointer-technique)"
   ]
  }
 ],
 "metadata": {
  "kernelspec": {
   "display_name": "Python 3 (ipykernel)",
   "language": "python",
   "name": "python3"
  },
  "language_info": {
   "codemirror_mode": {
    "name": "ipython",
    "version": 3
   },
   "file_extension": ".py",
   "mimetype": "text/x-python",
   "name": "python",
   "nbconvert_exporter": "python",
   "pygments_lexer": "ipython3",
   "version": "3.12.2"
  }
 },
 "nbformat": 4,
 "nbformat_minor": 5
}
